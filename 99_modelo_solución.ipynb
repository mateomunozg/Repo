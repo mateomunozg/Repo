{
  "nbformat": 4,
  "nbformat_minor": 0,
  "metadata": {
    "colab": {
      "provenance": []
    },
    "kernelspec": {
      "name": "python3",
      "display_name": "Python 3"
    },
    "language_info": {
      "name": "python"
    }
  },
  "cells": [
    {
      "cell_type": "code",
      "execution_count": null,
      "metadata": {
        "id": "V3RCSYqSnxvY"
      },
      "outputs": [],
      "source": [
        "pip install tensorflow\n"
      ]
    },
    {
      "cell_type": "code",
      "source": [
        "from sklearn.model_selection import train_test_split\n",
        "from sklearn.preprocessing import OneHotEncoder\n",
        "from sklearn.compose import ColumnTransformer\n",
        "from sklearn.svm import SVC\n",
        "from sklearn.metrics import classification_report, confusion_matrix, accuracy_score\n",
        "import pandas as pd\n",
        "\n",
        "# Montar Google Drive (asegúrate de ejecutar esto una vez)\n",
        "from google.colab import drive\n",
        "drive.mount('/content/drive')"
      ],
      "metadata": {
        "id": "dI9SKaAan4i0"
      },
      "execution_count": null,
      "outputs": []
    },
    {
      "cell_type": "code",
      "source": [
        "# Importar las librerías necesarias\n",
        "import pandas as pd\n",
        "from sklearn.model_selection import train_test_split\n",
        "from sklearn.preprocessing import LabelEncoder\n",
        "from sklearn.metrics import classification_report, accuracy_score\n",
        "from tensorflow.keras.models import Sequential\n",
        "from tensorflow.keras.layers import Dense\n",
        "import tensorflow as tf\n",
        "\n",
        "# Cargar el archivo preprocesado\n",
        "preprocessed_path = \"/content/drive/MyDrive/udea-ai4eng-20242/02_preprocesado.ipynb.csv\"\n",
        "df = pd.read_csv(preprocessed_path)\n",
        "\n",
        "# Ver las primeras filas del DataFrame\n",
        "print(\"Primeras filas del DataFrame:\")\n",
        "print(df.head())\n",
        "\n",
        "# Separar las características y la variable objetivo\n",
        "X = df.drop('RENDIMIENTO_GLOBAL', axis=1)  # Variables independientes\n",
        "y = df['RENDIMIENTO_GLOBAL']  # Variable dependiente\n",
        "\n",
        "# Codificar variables categóricas\n",
        "X = pd.get_dummies(X, drop_first=True)\n",
        "\n",
        "# Convertir la variable objetivo en números\n",
        "label_encoder = LabelEncoder()\n",
        "y = label_encoder.fit_transform(y)\n",
        "\n",
        "# Separar en conjuntos de entrenamiento y prueba\n",
        "X_train, X_test, y_train, y_test = train_test_split(X, y, test_size=0.2, random_state=42)\n",
        "\n",
        "# Crear el modelo Keras\n",
        "model = Sequential()\n",
        "model.add(Dense(64, activation='relu', input_shape=(X_train.shape[1],)))\n",
        "model.add(Dense(32, activation='relu'))\n",
        "model.add(Dense(len(set(y)), activation='softmax'))  # Número de clases en la salida\n",
        "\n",
        "# Compilar el modelo\n",
        "model.compile(optimizer='adam', loss='sparse_categorical_crossentropy', metrics=['accuracy'])\n",
        "\n",
        "# Entrenar el modelo\n",
        "model.fit(X_train, y_train, epochs=50, batch_size=32, validation_split=0.2)\n",
        "\n",
        "# Hacer predicciones con el conjunto de prueba\n",
        "y_pred = model.predict(X_test)\n",
        "y_pred_classes = tf.argmax(y_pred, axis=1).numpy()  # Convertir las probabilidades a clases\n",
        "\n",
        "# Evaluar el modelo\n",
        "accuracy = accuracy_score(y_test, y_pred_classes)\n",
        "print(\"Accuracy:\", accuracy)\n",
        "\n",
        "# Mostrar el reporte de clasificación\n",
        "print(\"\\nClassification Report:\\n\", classification_report(y_test, y_pred_classes))\n",
        "\n",
        "# Guardar el modelo entrenado en formato .h5\n",
        "model_path = \"/content/drive/MyDrive/udea-ai4eng-20242/random_forest_model.h5\"\n",
        "model.save(model_path)\n",
        "\n",
        "print(f\"\\nModelo guardado en: {model_path}\")\n"
      ],
      "metadata": {
        "id": "1I8HUgMgn5_7"
      },
      "execution_count": null,
      "outputs": []
    }
  ]
}