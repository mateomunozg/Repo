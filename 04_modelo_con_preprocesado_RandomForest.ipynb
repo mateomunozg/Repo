{
  "nbformat": 4,
  "nbformat_minor": 0,
  "metadata": {
    "colab": {
      "provenance": []
    },
    "kernelspec": {
      "name": "python3",
      "display_name": "Python 3"
    },
    "language_info": {
      "name": "python"
    }
  },
  "cells": [
    {
      "cell_type": "code",
      "execution_count": 1,
      "metadata": {
        "colab": {
          "base_uri": "https://localhost:8080/"
        },
        "id": "Zq_M2-axgbG1",
        "outputId": "59762943-d2d8-4869-8465-488df7f18c98"
      },
      "outputs": [
        {
          "output_type": "stream",
          "name": "stdout",
          "text": [
            "Mounted at /content/drive\n"
          ]
        }
      ],
      "source": [
        "from sklearn.model_selection import train_test_split\n",
        "from sklearn.preprocessing import OneHotEncoder\n",
        "from sklearn.compose import ColumnTransformer\n",
        "from sklearn.svm import SVC\n",
        "from sklearn.metrics import classification_report, confusion_matrix, accuracy_score\n",
        "import pandas as pd\n",
        "\n",
        "# Montar Google Drive (asegúrate de ejecutar esto una vez)\n",
        "from google.colab import drive\n",
        "drive.mount('/content/drive')"
      ]
    },
    {
      "cell_type": "code",
      "source": [
        "# Importar las librerías necesarias\n",
        "import pandas as pd\n",
        "from sklearn.model_selection import train_test_split\n",
        "from sklearn.ensemble import RandomForestClassifier\n",
        "from sklearn.preprocessing import LabelEncoder\n",
        "from sklearn.metrics import accuracy_score, classification_report, confusion_matrix\n",
        "\n",
        "# Cargar el archivo preprocesado\n",
        "preprocessed_path = \"/content/drive/MyDrive/udea-ai4eng-20242/02_preprocesado.ipynb.csv\"\n",
        "df = pd.read_csv(preprocessed_path)\n",
        "\n",
        "# Verificar los primeros registros del dataframe\n",
        "print(df.head())\n",
        "\n",
        "# Codificar la variable objetivo (RENDIMIENTO_GLOBAL) con LabelEncoder\n",
        "le = LabelEncoder()\n",
        "df['RENDIMIENTO_GLOBAL'] = le.fit_transform(df['RENDIMIENTO_GLOBAL'])\n",
        "\n",
        "# Preprocesamiento adicional si es necesario (One-Hot Encoding para variables categóricas)\n",
        "df = pd.get_dummies(df, drop_first=True)  # Convertir variables categóricas a numéricas\n",
        "\n",
        "# Separar las características y la variable objetivo\n",
        "X = df.drop('RENDIMIENTO_GLOBAL', axis=1)  # Variables independientes\n",
        "y = df['RENDIMIENTO_GLOBAL']  # Variable dependiente (codificada)\n",
        "\n",
        "# Dividir los datos en conjunto de entrenamiento y prueba\n",
        "X_train, X_test, y_train, y_test = train_test_split(X, y, test_size=0.2, random_state=42)\n",
        "\n",
        "# Crear el modelo Random Forest\n",
        "rf_model = RandomForestClassifier(n_estimators=100, random_state=42)\n",
        "\n",
        "# Entrenar el modelo con los datos de entrenamiento\n",
        "rf_model.fit(X_train, y_train)\n",
        "\n",
        "# Hacer predicciones con el conjunto de prueba\n",
        "y_pred = rf_model.predict(X_test)\n",
        "\n",
        "# Evaluar el modelo\n",
        "accuracy = accuracy_score(y_test, y_pred)\n",
        "print(f\"Exactitud del modelo: {accuracy * 100:.2f}%\")\n",
        "\n",
        "# Mostrar el reporte de clasificación y la matriz de confusión\n",
        "print(\"Reporte de Clasificación:\")\n",
        "print(classification_report(y_test, y_pred))\n",
        "\n",
        "print(\"Matriz de Confusión:\")\n",
        "print(confusion_matrix(y_test, y_pred))\n"
      ],
      "metadata": {
        "colab": {
          "base_uri": "https://localhost:8080/"
        },
        "id": "69SaR41ogv1v",
        "outputId": "d343bdb6-1912-4807-dc3e-4f520293526b"
      },
      "execution_count": null,
      "outputs": [
        {
          "output_type": "stream",
          "name": "stdout",
          "text": [
            "       ID  PERIODO         ESTU_PRGM_ACADEMICO ESTU_PRGM_DEPARTAMENTO  \\\n",
            "0  904256    20212                  ENFERMERIA                 BOGOTÁ   \n",
            "1  645256    20212                     DERECHO              ATLANTICO   \n",
            "2  308367    20203       MERCADEO Y PUBLICIDAD                 BOGOTÁ   \n",
            "3  470353    20195  ADMINISTRACION DE EMPRESAS              SANTANDER   \n",
            "4  989032    20212                  PSICOLOGIA              ANTIOQUIA   \n",
            "\n",
            "             ESTU_VALORMATRICULAUNIVERSIDAD ESTU_HORASSEMANATRABAJA  \\\n",
            "0  Entre 5.5 millones y menos de 7 millones       Menos de 10 horas   \n",
            "1  Entre 2.5 millones y menos de 4 millones                       0   \n",
            "2  Entre 2.5 millones y menos de 4 millones         Más de 30 horas   \n",
            "3  Entre 4 millones y menos de 5.5 millones                       0   \n",
            "4  Entre 2.5 millones y menos de 4 millones     Entre 21 y 30 horas   \n",
            "\n",
            "  FAMI_ESTRATOVIVIENDA FAMI_TIENEINTERNET                 FAMI_EDUCACIONPADRE  \\\n",
            "0            Estrato 3                 Si    Técnica o tecnológica incompleta   \n",
            "1            Estrato 3                 No      Técnica o tecnológica completa   \n",
            "2            Estrato 3                 Si  Secundaria (Bachillerato) completa   \n",
            "3            Estrato 4                 Si                             No sabe   \n",
            "4            Estrato 3                 Si                   Primaria completa   \n",
            "\n",
            "                  FAMI_EDUCACIONMADRE ESTU_PAGOMATRICULAPROPIO  \\\n",
            "0                           Postgrado                       No   \n",
            "1    Técnica o tecnológica incompleta                       No   \n",
            "2  Secundaria (Bachillerato) completa                       No   \n",
            "3  Secundaria (Bachillerato) completa                       No   \n",
            "4                   Primaria completa                       No   \n",
            "\n",
            "  RENDIMIENTO_GLOBAL  \n",
            "0         medio-alto  \n",
            "1               bajo  \n",
            "2               bajo  \n",
            "3               alto  \n",
            "4         medio-bajo  \n"
          ]
        }
      ]
    }
  ]
}